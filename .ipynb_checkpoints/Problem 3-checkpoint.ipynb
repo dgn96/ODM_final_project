{
 "cells": [
  {
   "cell_type": "code",
   "execution_count": 1,
   "id": "207d3bc5-6802-4c9a-a259-7afde0566e36",
   "metadata": {},
   "outputs": [],
   "source": [
    "import numpy as np\n",
    "import cvxpy as cp\n",
    "import pandas as pd\n",
    "import matplotlib.pyplot as plt\n",
    "import time\n",
    "import warnings\n",
    "#warnings.filterwarnings(\"ignore\")"
   ]
  },
  {
   "cell_type": "markdown",
   "id": "933e55bf-ae45-4167-a841-d9f0e56dc097",
   "metadata": {},
   "source": [
    "# Definition of data"
   ]
  },
  {
   "cell_type": "code",
   "execution_count": 2,
   "id": "f998c42f-eed2-45f7-b50d-94dc309e35dc",
   "metadata": {},
   "outputs": [],
   "source": [
    "T = 24\n",
    "N = 6\n",
    "\n",
    "generation_costs = np.array([15, 20, 15, 20, 30, 25.])\n",
    "startup_costs = np.array([75, 100, 75, 100, 100, 125.])\n",
    "shutdown_costs = np.array([7.5, 10.0, 7.5, 10.0, 10.0, 12.5])\n",
    "running_costs = np.array([10, 5, 10, 10, 10, 10.])\n",
    "\n",
    "capacity = np.array([10, 5, 10, 10, 20, 30.])\n",
    "ramp_up_rate = np.array([2, 5, 2, 5, 10, 5.])\n",
    "ramp_down_rate = np.array([2, 5, 2, 5, 10, 5.])\n",
    "\n",
    "initial_state = np.array([1, 0,0, 0, 0, 0])"
   ]
  },
  {
   "cell_type": "code",
   "execution_count": 3,
   "id": "1651b04e-0fc1-4ab9-b350-201f570a5d47",
   "metadata": {},
   "outputs": [],
   "source": [
    "rt_bar = np.array([15.2, 16.4, 16.1, 10.9, 14.8, 7.6, 15.6, 5.5, 9.2, 5.7, 1.5, 12.4, 10.4, 4.8, 14.3, 0.5, 6.6, 5.7, 11.5, 11.9, 2.8, 7.3, 6.7, 9.7])\n",
    "rt_hat = 0.6*np.ones_like(rt_bar)\n",
    "dt = np.array([21.3, 21.4, 17.8, 20.9, 15.5, 17.6, 20.2, 23.8, 27.7, 30.1, 35.4, 39.4, 43.2, 47.0, 49.3, 51.5, 52.6, 50.3, 47.0, 43.1, 38.8, 33.2, 28.6, 24.3])"
   ]
  },
  {
   "cell_type": "markdown",
   "id": "d64598a4-55cb-46b0-aa3e-5788de15ebbb",
   "metadata": {},
   "source": [
    "# Question 3.5"
   ]
  },
  {
   "cell_type": "code",
   "execution_count": 4,
   "id": "573c87bb-f7ae-4294-8e2b-4f0415553a18",
   "metadata": {},
   "outputs": [],
   "source": [
    "Tup = 3\n",
    "Tdown = 2"
   ]
  },
  {
   "cell_type": "code",
   "execution_count": 5,
   "id": "c067c5ad-e162-41c0-9f1d-32b9a90d100b",
   "metadata": {
    "tags": []
   },
   "outputs": [],
   "source": [
    "# Def variables\n",
    "# Primal variables\n",
    "x = cp.Variable((T, N), boolean = True)\n",
    "u = cp.Variable((T, N), boolean = True)\n",
    "v = cp.Variable((T, N), boolean = True)\n",
    "\n",
    "# Dual variables\n",
    "phi1 = cp.Variable((T))\n",
    "phi2 = cp.Variable((T))\n",
    "lambda1 = cp.Variable((T))\n",
    "lambda2 = cp.Variable((T))\n",
    "lambda3 = cp.Variable((T-1))\n",
    "lambda4 = cp.Variable((T-1))\n",
    "mu1 = cp.Variable((T))\n",
    "mu2 = cp.Variable((T))\n",
    "mu3 = cp.Variable((T-1))\n",
    "mu4 = cp.Variable((T-1))\n",
    "\n",
    "# Parametric variables\n",
    "a = cp.Variable((T, N))\n",
    "b = cp.Variable((T, N))\n",
    "c = cp.Variable((T, N))"
   ]
  },
  {
   "cell_type": "code",
   "execution_count": 6,
   "id": "c20d9ab0",
   "metadata": {},
   "outputs": [],
   "source": [
    "# Objective\n",
    "obj = cp.Minimize(sum(startup_costs@u.T + shutdown_costs@v.T + running_costs@x.T + generation_costs@c.T) + \n",
    "                      (rt_bar - rt_hat).T@phi1 + (rt_bar + rt_hat).T@phi2)"
   ]
  },
  {
   "cell_type": "code",
   "execution_count": null,
   "id": "30c41a49",
   "metadata": {},
   "outputs": [],
   "source": []
  },
  {
   "cell_type": "code",
   "execution_count": 7,
   "id": "7f22dc0e",
   "metadata": {},
   "outputs": [],
   "source": [
    "# Def constraints\n",
    "cons = []\n",
    "\n",
    "# Dual constraints ------------------------------------------------\n",
    "for t in range(0, T-1):\n",
    "    lol = 0\n",
    "    for i in range(N):\n",
    "        lol = lol + (a[t,i] + b[t+1,i])*generation_costs[i]\n",
    "    cons.append(phi1[t] + phi2[t] >= lol)\n",
    "    #cons.append(phi1[t] + phi2[t] >= cp.multiply((a[t,:] + b[t+1,:]), generation_costs))\n",
    "\n",
    "lol1 = 0\n",
    "lol2 = 0\n",
    "for i in range(N):\n",
    "    lol1 += (a[0,i])*generation_costs[i]\n",
    "    lol2 += (a[-1,i])*generation_costs[i]\n",
    "#cons.append(phi1[0] + phi2[0] >= lol1)    \n",
    "cons.append(phi1[-1] + phi2[-1] >= lol2)    \n",
    "#cons.append(phi1[0] + phi2[0] >= cp.multiply(a[0,:], generation_costs))   \n",
    "#cons.append(phi1[-1] + phi2[-1] >= cp.multiply(a[-1,:], generation_costs))  \n",
    "cons.append(phi1 <= 0)\n",
    "cons.append(phi2 >= 0)\n",
    "\n",
    "# Constraint 3b --------------------------------------------------\n",
    "for t in range(T):\n",
    "    cons.append(sum(a[t,:]) == -1)\n",
    "    cons.append(sum(b[t,:]) == 0)\n",
    "    cons.append(sum(c[t,:]) == dt[t])\n",
    "\n",
    "# For constraint 3c ----------------------------------------------\n",
    "#----------------------------\n",
    "for t in range(1,T):\n",
    "    for i in range(N):      \n",
    "        cons.append(0 <= (rt_bar[t] - rt_hat[t])*lambda1[t] + (rt_bar[t] + rt_hat[t])*lambda2[t] + \n",
    "                    (rt_bar[t-1] - rt_hat[t-1])*lambda3[t-1] + (rt_bar[t-1] + rt_hat[t-1])*lambda4[t-1] + c[t,i])\n",
    "        cons.append(lambda1[t] + lambda2[t] <= a[t,i])\n",
    "        cons.append(lambda3[t-1] + lambda4[t-1] <= b[t,i])\n",
    "\n",
    "for i in range(N):\n",
    "    cons.append(0 <= (rt_bar[0]-rt_hat[0])*lambda1[0] + (rt_bar[0]+rt_hat[0])*lambda2[0] + c[0,i])\n",
    "    cons.append(lambda1[0] + lambda2[0] <= a[0,i])\n",
    "    #cons.append(lambda3[0] + lambda4[0] <= b[0,i])\n",
    "\n",
    "    \n",
    "\n",
    "cons.append(lambda1 >= 0)\n",
    "cons.append(lambda2 <= 0)\n",
    "cons.append(lambda3 >= 0)\n",
    "cons.append(lambda4 <= 0)\n",
    "#------------------------------------\n",
    "for t in range(1,T):\n",
    "    for i in range(N):\n",
    "        cons.append(x[t,i]*capacity[i] >= (rt_bar[t] - rt_hat[t])*mu1[t] + (rt_bar[t] + rt_hat[t])*mu2[t] + \n",
    "                    (rt_bar[t-1] - rt_hat[t-1])*mu3[t-1] + (rt_bar[t-1] + rt_hat[t-1])*mu4[t-1] - c[t,i])\n",
    "        cons.append(mu1[t] + mu2[t] >= a[t,i])\n",
    "        cons.append(mu3[t-1] + mu4[t-1] >= b[t,i])\n",
    "\n",
    "for i in range(N):\n",
    "    cons.append(x[0,i]*capacity[i] >= (rt_bar[0] - rt_hat[0])*mu1[0] + (rt_bar[0] + rt_hat[0])*mu2[0] - c[0,i])\n",
    "    cons.append(mu1[0] + mu2[0] >= a[0,i])\n",
    "    #cons.append(mu3[0] + mu4[0] >= b[0,i])\n",
    "    \n",
    "cons.append(mu1 <= 0)\n",
    "cons.append(mu2 >= 0)\n",
    "cons.append(mu3 <= 0)\n",
    "cons.append(mu4 >= 0)\n",
    "#  Constraints 2d - 2h -------------------------------------------\n",
    "\n",
    "# For time 0\n",
    "cons.append(x[0,:] == initial_state)\n",
    "cons.append(u[0,:] == 0)\n",
    "cons.append(v[0,:] == 0)\n",
    "\n",
    "#Rest of time periods\n",
    "for t in range(1, T):\n",
    "    cons.append(x[t-1,:] - x[t,:] + u[t,:] >= 0) # Write smt here\n",
    "    cons.append(x[t,:] - x[t-1,:] + v[t,:] >= 0) # Write smt here\n",
    "\n",
    "# For each t except first and last\n",
    "for t in range(1, T-1):\n",
    "    tau_up = min(t + Tup, T)  # Calculate the max T_up\n",
    "    for tau_u in range(t+1, tau_up):\n",
    "        cons.append(x[t,:] - x[t-1,:] <= x[tau_u,:]) # T up cons\n",
    "        \n",
    "    tau_down = min(t + Tdown, T)  # Calculate max T_down\n",
    "    for tau_d in range(t+1, tau_down):\n",
    "        cons.append(x[t-1,:] - x[t,:] <= 1 - x[tau_d,:]) # T down cons\n",
    "#cons.append(c >= 0)        "
   ]
  },
  {
   "cell_type": "code",
   "execution_count": 8,
   "id": "611fcd4d",
   "metadata": {},
   "outputs": [
    {
     "name": "stdout",
     "output_type": "stream",
     "text": [
      "Objective value: 9052.916667013826\n",
      "Time elapsed: 1.1978974342346191 seconds\n"
     ]
    }
   ],
   "source": [
    "# Sol\n",
    "\n",
    "# Measure time\n",
    "start = time.time() # Time starts\n",
    "\n",
    "# Solve problem\n",
    "problem = cp.Problem(obj, cons)\n",
    "problem.solve(solver = 'ECOS_BB', verbose = False)\n",
    "\n",
    "end = time.time() # Time ends\n",
    "\n",
    "print('Objective value: ' + str(obj.value))\n",
    "print('Time elapsed: ' + str(end - start) + ' seconds')"
   ]
  },
  {
   "cell_type": "code",
   "execution_count": null,
   "id": "91870f5c",
   "metadata": {},
   "outputs": [],
   "source": []
  },
  {
   "cell_type": "code",
   "execution_count": 9,
   "id": "19392245",
   "metadata": {},
   "outputs": [
    {
     "name": "stderr",
     "output_type": "stream",
     "text": [
      "C:\\Users\\gutie\\AppData\\Local\\Temp/ipykernel_8320/733167505.py:7: UserWarning: FixedFormatter should only be used together with FixedLocator\n",
      "  ax2.set_yticklabels(['1', '1', '3', '5'])\n"
     ]
    },
    {
     "data": {
      "text/plain": [
       "<matplotlib.colorbar.Colorbar at 0x22e06ee8e50>"
      ]
     },
     "execution_count": 9,
     "metadata": {},
     "output_type": "execute_result"
    },
    {
     "data": {
      "image/png": "[encoded data removed]",
      "text/plain": [
       "<Figure size 432x288 with 2 Axes>"
      ]
     },
     "metadata": {
      "needs_background": "light"
     },
     "output_type": "display_data"
    }
   ],
   "source": [
    "# X plot\n",
    "fig, ax2 = plt.subplots()\n",
    "ax2.imshow(x.value.T, interpolation='nearest', aspect='auto')\n",
    "ax2.set_xlabel('Time (h)')\n",
    "ax2.set_ylabel('Generator')\n",
    "ax2.set_title('$x_i^t$')\n",
    "ax2.set_yticklabels(['1', '1', '3', '5'])\n",
    "\n",
    "# Binary colorbar\n",
    "plt.colorbar(ax2.imshow(x.value.T, interpolation='nearest', aspect='auto'))"
   ]
  },
  {
   "cell_type": "code",
   "execution_count": null,
   "id": "dc52abdf",
   "metadata": {},
   "outputs": [],
   "source": []
  },
  {
   "cell_type": "code",
   "execution_count": null,
   "id": "8f7649db",
   "metadata": {},
   "outputs": [],
   "source": []
  },
  {
   "cell_type": "code",
   "execution_count": null,
   "id": "cf4c3dd5",
   "metadata": {},
   "outputs": [],
   "source": []
  },
  {
   "cell_type": "code",
   "execution_count": null,
   "id": "eceb355e",
   "metadata": {},
   "outputs": [],
   "source": []
  }
 ],
 "metadata": {
  "kernelspec": {
   "display_name": "Python 3 (ipykernel)",
   "language": "python",
   "name": "python3"
  },
  "language_info": {
   "codemirror_mode": {
    "name": "ipython",
    "version": 3
   },
   "file_extension": ".py",
   "mimetype": "text/x-python",
   "name": "python",
   "nbconvert_exporter": "python",
   "pygments_lexer": "ipython3",
   "version": "3.9.7"
  }
 },
 "nbformat": 4,
 "nbformat_minor": 5
}
