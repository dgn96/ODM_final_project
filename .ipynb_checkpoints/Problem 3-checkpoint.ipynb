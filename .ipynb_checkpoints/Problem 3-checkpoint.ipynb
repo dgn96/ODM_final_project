{
 "cells": [
  {
   "cell_type": "code",
   "execution_count": 1,
   "id": "207d3bc5-6802-4c9a-a259-7afde0566e36",
   "metadata": {},
   "outputs": [],
   "source": [
    "import numpy as np\n",
    "import cvxpy as cp\n",
    "import pandas as pd\n",
    "import matplotlib.pyplot as plt\n",
    "import time\n",
    "import warnings\n",
    "#warnings.filterwarnings(\"ignore\")"
   ]
  },
  {
   "cell_type": "markdown",
   "id": "933e55bf-ae45-4167-a841-d9f0e56dc097",
   "metadata": {},
   "source": [
    "# Definition of data"
   ]
  },
  {
   "cell_type": "code",
   "execution_count": 6,
   "id": "f998c42f-eed2-45f7-b50d-94dc309e35dc",
   "metadata": {},
   "outputs": [],
   "source": [
    "T = 24\n",
    "N = 6\n",
    "\n",
    "generation_costs = np.array([15, 20, 15, 20, 30, 25.])\n",
    "startup_costs = np.array([75, 100, 75, 100, 100, 125.])\n",
    "shutdown_costs = np.array([7.5, 10.0, 7.5, 10.0, 10.0, 12.5])\n",
    "running_costs = np.array([10, 5, 10, 10, 10, 10.])\n",
    "\n",
    "capacity = np.array([10, 5, 10, 10, 20, 30.])\n",
    "ramp_up_rate = np.array([2, 5, 2, 5, 10, 5.])\n",
    "ramp_down_rate = np.array([2, 5, 2, 5, 10, 5.])\n",
    "\n",
    "initial_state = np.array([1, 0,0, 0, 0, 0])"
   ]
  },
  {
   "cell_type": "code",
   "execution_count": 7,
   "id": "1651b04e-0fc1-4ab9-b350-201f570a5d47",
   "metadata": {},
   "outputs": [],
   "source": [
    "rt_bar = np.array([15.2, 16.4, 16.1, 10.9, 14.8, 7.6, 15.6, 5.5, 9.2, 5.7, 1.5, 12.4, 10.4, 4.8, 14.3, 0.5, 6.6, 5.7, 11.5, 11.9, 2.8, 7.3, 6.7, 9.7])\n",
    "rt_hat = 0.6*np.ones_like(rt_bar)\n",
    "dt = np.array([21.3, 21.4, 17.8, 20.9, 15.5, 17.6, 20.2, 23.8, 27.7, 30.1, 35.4, 39.4, 43.2, 47.0, 49.3, 51.5, 52.6, 50.3, 47.0, 43.1, 38.8, 33.2, 28.6, 24.3])"
   ]
  },
  {
   "cell_type": "markdown",
   "id": "d64598a4-55cb-46b0-aa3e-5788de15ebbb",
   "metadata": {},
   "source": [
    "# Question 3.5"
   ]
  },
  {
   "cell_type": "code",
   "execution_count": 8,
   "id": "573c87bb-f7ae-4294-8e2b-4f0415553a18",
   "metadata": {},
   "outputs": [],
   "source": [
    "Tup = 3\n",
    "Tdown = 2"
   ]
  },
  {
   "cell_type": "code",
   "execution_count": 78,
   "id": "c067c5ad-e162-41c0-9f1d-32b9a90d100b",
   "metadata": {
    "tags": []
   },
   "outputs": [],
   "source": [
    "# Def variables\n",
    "# Primal variables\n",
    "x = cp.Variable((T, N), boolean = True)\n",
    "u = cp.Variable((T, N), boolean = True)\n",
    "v = cp.Variable((T, N), boolean = True)\n",
    "\n",
    "# Dual variables\n",
    "phi1 = cp.Variable((T))\n",
    "phi2 = cp.Variable((T))\n",
    "lambda1 = cp.Variable((T))\n",
    "lambda2 = cp.Variable((T))\n",
    "mu1 = cp.Variable((T))\n",
    "mu2 = cp.Variable((T))\n",
    "\n",
    "# Parametric variables\n",
    "a = cp.Variable((T, N))\n",
    "b = cp.Variable((T, N))\n",
    "c = cp.Variable((T, N))"
   ]
  },
  {
   "cell_type": "code",
   "execution_count": 85,
   "id": "c20d9ab0",
   "metadata": {},
   "outputs": [],
   "source": [
    "# Objective\n",
    "obj = cp.Minimize(sum(startup_costs@u.T + shutdown_costs@v.T + running_costs@x.T + (rt_bar-rt_hat).T@phi1.T + (rt_bar+rt_hat).T@phi2) + sum(sum(c)))"
   ]
  },
  {
   "cell_type": "code",
   "execution_count": 90,
   "id": "7f22dc0e",
   "metadata": {},
   "outputs": [
    {
     "ename": "SyntaxError",
     "evalue": "invalid syntax (Temp/ipykernel_20484/4048508761.py, line 9)",
     "output_type": "error",
     "traceback": [
      "\u001b[1;36m  File \u001b[1;32m\"C:\\Users\\gutie\\AppData\\Local\\Temp/ipykernel_20484/4048508761.py\"\u001b[1;36m, line \u001b[1;32m9\u001b[0m\n\u001b[1;33m    cons.append(x[0,:] == initial_state)\u001b[0m\n\u001b[1;37m    ^\u001b[0m\n\u001b[1;31mSyntaxError\u001b[0m\u001b[1;31m:\u001b[0m invalid syntax\n"
     ]
    }
   ],
   "source": [
    "# Def constraints\n",
    "cons = []\n",
    "\n",
    "# Dual cnstraints ------------------------------------------------\n",
    "for t in range(T-1):\n",
    "    cons.append(phi1[t] + phi2[t] >= sum(a[t,:] + b[t+1,:])\n",
    "\n",
    "                \n",
    "cons.append(x[0,:] == initial_state)\n",
    "\n",
    "cons.append(u[0,:] == 0)\n",
    "\n",
    "cons.append(v[0,:] == 0)\n",
    "\n",
    "#Rest of time periods\n",
    "for t in range(1, T):\n",
    "    cons.append(x[t-1,:] - x[t,:] + u[t,:] >= 0) # Write smt here\n",
    "    cons.append(x[t,:] - x[t-1,:] + v[t,:] >= 0) # Write smt here\n",
    "\n",
    "# For each t except first and last\n",
    "for t in range(1, T-1):\n",
    "    tau_up = min(t + Tup, T)  # Calculate the max T_up\n",
    "    for tau_u in range(t+1, tau_up):\n",
    "        cons.append(x[t,:] - x[t-1,:] <= x[tau_u,:]) # T up cons\n",
    "        \n",
    "    tau_down = min(t + Tup, T)  # Calculate max T_down\n",
    "    for tau_d in range(t+1, tau_down):\n",
    "        cons.append(x[t-1,:] - x[t,:] <= 1 - x[tau_d,:]) # T down cons"
   ]
  },
  {
   "cell_type": "code",
   "execution_count": 76,
   "id": "611fcd4d",
   "metadata": {},
   "outputs": [
    {
     "name": "stdout",
     "output_type": "stream",
     "text": [
      "===============================================================================\n",
      "                                     CVXPY                                     \n",
      "                                    v1.1.18                                    \n",
      "===============================================================================\n",
      "(CVXPY) May 17 06:20:29 PM: Your problem has 624 variables, 143 constraints, and 0 parameters.\n",
      "(CVXPY) May 17 06:20:29 PM: It is compliant with the following grammars: DCP, DQCP\n",
      "(CVXPY) May 17 06:20:29 PM: (If you need to solve this problem multiple times, but with different data, consider using parameters.)\n",
      "(CVXPY) May 17 06:20:29 PM: CVXPY will first compile your problem; then, it will invoke a numerical solver to obtain a solution.\n",
      "-------------------------------------------------------------------------------\n",
      "                                  Compilation                                  \n",
      "-------------------------------------------------------------------------------\n",
      "(CVXPY) May 17 06:20:29 PM: Compiling problem (target solver=ECOS_BB).\n",
      "(CVXPY) May 17 06:20:29 PM: Reduction chain: Dcp2Cone -> CvxAttr2Constr -> ConeMatrixStuffing -> ECOS_BB\n",
      "(CVXPY) May 17 06:20:29 PM: Applying reduction Dcp2Cone\n",
      "(CVXPY) May 17 06:20:29 PM: Applying reduction CvxAttr2Constr\n",
      "(CVXPY) May 17 06:20:29 PM: Applying reduction ConeMatrixStuffing\n",
      "(CVXPY) May 17 06:20:29 PM: Applying reduction ECOS_BB\n",
      "(CVXPY) May 17 06:20:29 PM: Finished problem compilation (took 3.384e-01 seconds).\n",
      "-------------------------------------------------------------------------------\n",
      "                                Numerical solver                               \n",
      "-------------------------------------------------------------------------------\n",
      "(CVXPY) May 17 06:20:29 PM: Invoking solver ECOS_BB  to obtain a solution.\n",
      "-------------------------------------------------------------------------------\n",
      "                                    Summary                                    \n",
      "-------------------------------------------------------------------------------\n",
      "(CVXPY) May 17 06:20:29 PM: Problem status: infeasible\n",
      "(CVXPY) May 17 06:20:29 PM: Optimal value: inf\n",
      "(CVXPY) May 17 06:20:29 PM: Compilation took 3.384e-01 seconds\n",
      "(CVXPY) May 17 06:20:29 PM: Solver (including time spent in interface) took 2.272e-02 seconds\n",
      "Objective value: None\n",
      "Time elapsed: 0.4247398376464844 seconds\n"
     ]
    }
   ],
   "source": [
    "# Sol\n",
    "\n",
    "# Measure time\n",
    "start = time.time() # Time starts\n",
    "\n",
    "# Solve problem\n",
    "problem = cp.Problem(obj, cons)\n",
    "problem.solve(solver = 'ECOS_BB', verbose = True)\n",
    "\n",
    "end = time.time() # Time ends\n",
    "\n",
    "print('Objective value: ' + str(obj.value))\n",
    "print('Time elapsed: ' + str(end - start) + ' seconds')"
   ]
  },
  {
   "cell_type": "code",
   "execution_count": 68,
   "id": "91870f5c",
   "metadata": {},
   "outputs": [
    {
     "data": {
      "text/plain": [
       "50.326426671319844"
      ]
     },
     "execution_count": 68,
     "metadata": {},
     "output_type": "execute_result"
    }
   ],
   "source": [
    "sum(sum(np.random.rand(10, 10)))"
   ]
  },
  {
   "cell_type": "code",
   "execution_count": null,
   "id": "40849b8a",
   "metadata": {},
   "outputs": [],
   "source": []
  }
 ],
 "metadata": {
  "kernelspec": {
   "display_name": "Python 3 (ipykernel)",
   "language": "python",
   "name": "python3"
  },
  "language_info": {
   "codemirror_mode": {
    "name": "ipython",
    "version": 3
   },
   "file_extension": ".py",
   "mimetype": "text/x-python",
   "name": "python",
   "nbconvert_exporter": "python",
   "pygments_lexer": "ipython3",
   "version": "3.9.7"
  }
 },
 "nbformat": 4,
 "nbformat_minor": 5
}
