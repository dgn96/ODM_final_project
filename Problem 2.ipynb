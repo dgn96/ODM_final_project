{
 "cells": [
  {
   "cell_type": "code",
   "execution_count": 1,
   "id": "207d3bc5-6802-4c9a-a259-7afde0566e36",
   "metadata": {},
   "outputs": [],
   "source": [
    "import numpy as np\n",
    "import cvxpy as cp\n",
    "import pandas as pd\n",
    "import matplotlib.pyplot as plt\n",
    "\n",
    "import warnings\n",
    "warnings.filterwarnings(\"ignore\")"
   ]
  },
  {
   "cell_type": "markdown",
   "id": "933e55bf-ae45-4167-a841-d9f0e56dc097",
   "metadata": {},
   "source": [
    "# Definition of data"
   ]
  },
  {
   "cell_type": "code",
   "execution_count": 2,
   "id": "f998c42f-eed2-45f7-b50d-94dc309e35dc",
   "metadata": {},
   "outputs": [],
   "source": [
    "N = 6 # Number of generators\n",
    "T = 24 # Time periods\n",
    "\n",
    "generation_costs = np.array([15, 20, 15, 20, 30, 25.])\n",
    "startup_costs = np.array([75, 100, 75, 100, 100, 125.])\n",
    "shutdown_costs = np.array([7.5, 10.0, 7.5, 10.0, 10.0, 12.5])\n",
    "running_costs = np.array([10, 5, 10, 10, 10, 10.])\n",
    "\n",
    "capacity = np.array([10, 5, 10, 10, 20, 30.])\n",
    "ramp_up_rate = np.array([2, 5, 2, 5, 10, 5.])\n",
    "ramp_down_rate = np.array([2, 5, 2, 5, 10, 5.])\n",
    "\n",
    "initial_state = np.array([1, 0, 0, 0, 0, 0])"
   ]
  },
  {
   "cell_type": "code",
   "execution_count": 3,
   "id": "1651b04e-0fc1-4ab9-b350-201f570a5d47",
   "metadata": {},
   "outputs": [],
   "source": [
    "rt = np.array([15.2, 16.4, 16.1, 10.9, 14.8, 7.6, 15.6, 5.5, 9.2, 5.7, 1.5, 12.4, 10.4, 4.8, 14.3, 0.5, 6.6, 5.7, 11.5, 11.9, 2.8, 7.3, 6.7, 9.7])\n",
    "dt = np.array([21.3, 21.4, 17.8, 20.9, 15.5, 17.6, 20.2, 23.8, 27.7, 30.1, 35.4, 39.4, 43.2, 47.0, 49.3, 51.5, 52.6, 50.3, 47.0, 43.1, 38.8, 33.2, 28.6, 24.3])"
   ]
  },
  {
   "cell_type": "markdown",
   "id": "d64598a4-55cb-46b0-aa3e-5788de15ebbb",
   "metadata": {},
   "source": [
    "# Question 2.2"
   ]
  },
  {
   "cell_type": "code",
   "execution_count": 4,
   "id": "573c87bb-f7ae-4294-8e2b-4f0415553a18",
   "metadata": {},
   "outputs": [],
   "source": [
    "Tup = 3\n",
    "Tdown = 2"
   ]
  },
  {
   "cell_type": "code",
   "execution_count": 5,
   "id": "c067c5ad-e162-41c0-9f1d-32b9a90d100b",
   "metadata": {},
   "outputs": [],
   "source": [
    "# YOUR CODE HERE\n",
    "# Hint: Define decision variables in CVXPY using\n",
    "# shape = (2,2) # example: 2x2 binary matrix\n",
    "# binary_example_variable = cp.Variable(shape, boolean=True)\n",
    "# We recommend GLPK_MI solver\n",
    "\n",
    "\n",
    "# Define variables\n",
    "g = cp.Variable((T, N))\n",
    "x = cp.Variable((T, N), boolean = True)\n",
    "u = cp.Variable((T, N), boolean = True)\n",
    "v = cp.Variable((T, N), boolean = True)"
   ]
  },
  {
   "cell_type": "code",
   "execution_count": 6,
   "id": "a58ac84c",
   "metadata": {},
   "outputs": [],
   "source": [
    "# Define objective\n",
    "obj = cp.Minimize(sum(generation_costs@g.T + startup_costs@u.T + shutdown_costs@v.T + running_costs@x.T))"
   ]
  },
  {
   "cell_type": "code",
   "execution_count": 7,
   "id": "93150539",
   "metadata": {},
   "outputs": [],
   "source": [
    "# Define Constraints\n",
    "\n",
    "# Non-neg constraints\n",
    "cons = [g >= 0]\n",
    "\n",
    "# First time period\n",
    "cons.append( sum(g[0,:]) + rt[0] == dt[0])\n",
    "cons.append(x[0,:] == initial_state)\n",
    "cons.append(u[0,:] == 0)\n",
    "cons.append(v[0,:] == 0)\n",
    "\n",
    "#Rest of time periods\n",
    "for t in range(1, T):\n",
    "    cons.append( sum(g[t,:]) + rt[t] == dt[t]) # Demand is met\n",
    "    cons.append(x[t-1,:] - x[t,:] + u[t,:] >= 0) # Write smt here\n",
    "    cons.append(x[t,:] - x[t-1,:] + v[t,:] >= 0) # Write smt here\n",
    "\n",
    "# For each t except first and last\n",
    "for t in range(1, T-1):\n",
    "    tau_up = min(t + Tup, T)  # Calculate the max T_up\n",
    "    for tau_u in range(t+1, tau_up):\n",
    "        cons.append(x[t,:] - x[t-1,:] <= x[tau_u,:]) # T up cons\n",
    "        \n",
    "    tau_down = min(t + Tup, T)  # Calculate max T_down\n",
    "    for tau_d in range(t+1, tau_down):\n",
    "        cons.append(x[t-1,:] - x[t,:] <= 1 - x[tau_d,:]) # T down cons\n",
    "    \n",
    "# For all the generators    \n",
    "for n in range(N):\n",
    "    cons.append(g[:, n] <= x[:, n]*capacity[n]) # Capacity cons"
   ]
  },
  {
   "cell_type": "code",
   "execution_count": 8,
   "id": "f441ecd4",
   "metadata": {},
   "outputs": [
    {
     "data": {
      "text/plain": [
       "11029.500000015461"
      ]
     },
     "execution_count": 8,
     "metadata": {},
     "output_type": "execute_result"
    }
   ],
   "source": [
    "# Solve\n",
    "problem = cp.Problem(obj, cons)\n",
    "problem.solve(solver = 'ECOS_BB') #MILP solver needed"
   ]
  },
  {
   "cell_type": "code",
   "execution_count": 12,
   "id": "19772e7b",
   "metadata": {},
   "outputs": [
    {
     "ename": "NameError",
     "evalue": "name 'colors' is not defined",
     "output_type": "error",
     "traceback": [
      "\u001b[1;31m---------------------------------------------------------------------------\u001b[0m",
      "\u001b[1;31mNameError\u001b[0m                                 Traceback (most recent call last)",
      "\u001b[1;32m~\\AppData\\Local\\Temp/ipykernel_14344/3235453060.py\u001b[0m in \u001b[0;36m<module>\u001b[1;34m\u001b[0m\n\u001b[0;32m     13\u001b[0m \u001b[1;33m\u001b[0m\u001b[0m\n\u001b[0;32m     14\u001b[0m \u001b[1;31m# Dispatch plot\u001b[0m\u001b[1;33m\u001b[0m\u001b[1;33m\u001b[0m\u001b[0m\n\u001b[1;32m---> 15\u001b[1;33m \u001b[0max1\u001b[0m\u001b[1;33m.\u001b[0m\u001b[0mstackplot\u001b[0m\u001b[1;33m(\u001b[0m\u001b[0mnp\u001b[0m\u001b[1;33m.\u001b[0m\u001b[0marange\u001b[0m\u001b[1;33m(\u001b[0m\u001b[0mT\u001b[0m\u001b[1;33m)\u001b[0m\u001b[1;33m,\u001b[0m \u001b[0mdf\u001b[0m\u001b[1;33m.\u001b[0m\u001b[0mT\u001b[0m\u001b[1;33m,\u001b[0m \u001b[0mlabels\u001b[0m\u001b[1;33m=\u001b[0m \u001b[0mdf\u001b[0m\u001b[1;33m.\u001b[0m\u001b[0mcolumns\u001b[0m\u001b[1;33m,\u001b[0m \u001b[0mcolors\u001b[0m \u001b[1;33m=\u001b[0m \u001b[0mcolors\u001b[0m\u001b[1;33m)\u001b[0m\u001b[1;33m\u001b[0m\u001b[1;33m\u001b[0m\u001b[0m\n\u001b[0m\u001b[0;32m     16\u001b[0m \u001b[0max1\u001b[0m\u001b[1;33m.\u001b[0m\u001b[0mplot\u001b[0m\u001b[1;33m(\u001b[0m\u001b[0mdt\u001b[0m\u001b[1;33m,\u001b[0m \u001b[0mlinewidth\u001b[0m\u001b[1;33m=\u001b[0m\u001b[1;36m2\u001b[0m\u001b[1;33m,\u001b[0m \u001b[0mc\u001b[0m \u001b[1;33m=\u001b[0m \u001b[1;34m'k'\u001b[0m\u001b[1;33m,\u001b[0m \u001b[0mlabel\u001b[0m \u001b[1;33m=\u001b[0m \u001b[1;34m'Total demand'\u001b[0m\u001b[1;33m)\u001b[0m\u001b[1;33m\u001b[0m\u001b[1;33m\u001b[0m\u001b[0m\n\u001b[0;32m     17\u001b[0m \u001b[0max1\u001b[0m\u001b[1;33m.\u001b[0m\u001b[0mset_ylabel\u001b[0m\u001b[1;33m(\u001b[0m\u001b[1;34m'MW'\u001b[0m\u001b[1;33m)\u001b[0m\u001b[1;33m\u001b[0m\u001b[1;33m\u001b[0m\u001b[0m\n",
      "\u001b[1;31mNameError\u001b[0m: name 'colors' is not defined"
     ]
    },
    {
     "data": {
      "image/png": "[encoded data removed]",
      "text/plain": [
       "<Figure size 720x432 with 4 Axes>"
      ]
     },
     "metadata": {
      "needs_background": "light"
     },
     "output_type": "display_data"
    }
   ],
   "source": [
    "# Plot results\n",
    "df = pd.DataFrame(abs(g.value), columns=['G1', 'G2', 'G3', 'G4', 'G5', 'G6'])\n",
    "df.insert(0, 'Renewables', rt)\n",
    "\n",
    "# Define figure\n",
    "fig = plt.subplots(figsize = (10, 6), constrained_layout=True)\n",
    "\n",
    "# Create subplot grid\n",
    "ax1 = plt.subplot2grid((3, 3), (0, 0), colspan = 3, rowspan = 2)\n",
    "ax2 = plt.subplot2grid((3, 3), (2, 0))\n",
    "ax3 = plt.subplot2grid((3, 3), (2, 1))\n",
    "ax4 = plt.subplot2grid((3, 3), (2, 2))\n",
    "\n",
    "# Dispatch plot\n",
    "ax1.stackplot(np.arange(T), df.T, labels= df.columns, colors = colors)\n",
    "ax1.plot(dt, linewidth=2, c = 'k', label = 'Total demand')\n",
    "ax1.set_ylabel('MW')\n",
    "ax1.set_xlabel('Time (h)')\n",
    "ax1.legend()\n",
    "\n",
    "# X plot\n",
    "ax2.imshow(x.value.T, interpolation='nearest', aspect='auto')\n",
    "ax2.set_xlabel('Time (h)')\n",
    "ax2.set_ylabel('Generator')\n",
    "ax2.set_title('$x_i^t$')\n",
    "ax2.set_yticklabels(['1', '1', '3', '5'])\n",
    "\n",
    "# U plot\n",
    "ax3.imshow(u.value.T, interpolation='nearest', aspect='auto')\n",
    "ax3.set_xlabel('Time (h)')\n",
    "ax3.set_title('$u_i^t$')\n",
    "ax3.set_yticklabels(['1', '1', '3', '5'])\n",
    "\n",
    "# V plot\n",
    "ax4.imshow(v.value.T, interpolation='nearest', aspect='auto')\n",
    "ax4.set_xlabel('Time (h)')\n",
    "ax4.set_title('$v_i^t$')\n",
    "ax4.set_yticklabels(['1', '1', '3', '5'])\n",
    "\n",
    "# Binary colorbar\n",
    "plt.colorbar(ax2.imshow(x.value.T, interpolation='nearest', aspect='auto'), ticks=[0, 1], label='on/off', values = [1,0])\n",
    "\n",
    "plt.savefig('.\\\\plots\\\\part2_MILP.pdf')"
   ]
  },
  {
   "cell_type": "markdown",
   "id": "d0d63e22-1f0a-4e51-ae92-a7006f31fb04",
   "metadata": {
    "tags": []
   },
   "source": [
    "# Question 2.3 Relaxed"
   ]
  },
  {
   "cell_type": "code",
   "execution_count": null,
   "id": "18f1ff2c-9053-479d-af61-ddb6fc88f286",
   "metadata": {},
   "outputs": [],
   "source": [
    "Tup = 3\n",
    "Tdown = 2"
   ]
  },
  {
   "cell_type": "code",
   "execution_count": null,
   "id": "7bfa7f8c-4877-40fe-8cb4-82b6c4df1f6f",
   "metadata": {},
   "outputs": [],
   "source": [
    "# Define variables\n",
    "g = cp.Variable((T, N))\n",
    "x = cp.Variable((T, N))\n",
    "u = cp.Variable((T, N))\n",
    "v = cp.Variable((T, N))"
   ]
  },
  {
   "cell_type": "code",
   "execution_count": null,
   "id": "4bbb94bd",
   "metadata": {},
   "outputs": [],
   "source": [
    "# Define objective\n",
    "obj = cp.Minimize(sum(generation_costs@g.T + startup_costs@u.T + shutdown_costs@v.T + running_costs@x.T))"
   ]
  },
  {
   "cell_type": "code",
   "execution_count": null,
   "id": "f21cfe14",
   "metadata": {},
   "outputs": [],
   "source": [
    "# Define Constraints\n",
    "\n",
    "# Non-neg constraints\n",
    "cons = [g >= 0]\n",
    "\n",
    "# First time period\n",
    "cons.append( sum(g[0,:]) + rt[0] == dt[0])\n",
    "cons.append(x[0,:] == initial_state)\n",
    "cons.append(u[0,:] == 0)\n",
    "cons.append(v[0,:] == 0)\n",
    "\n",
    "# Relaxation cons geq 0\n",
    "cons.append(x >= 0)\n",
    "cons.append(u >= 0)\n",
    "cons.append(v >= 0)\n",
    "\n",
    "# Relaxation cons leq 1\n",
    "cons.append(x <= 1)\n",
    "cons.append(u <= 1)\n",
    "cons.append(v <= 1)\n",
    "\n",
    "for t in range(1, T):\n",
    "    cons.append( sum(g[t,:]) + rt[t] == dt[t]) # Demand is met\n",
    "    cons.append(x[t-1,:] - x[t,:] + u[t,:] >= 0)\n",
    "    cons.append(x[t,:] - x[t-1,:] + v[t,:] >= 0)\n",
    "\n",
    "for t in range(1, T-1):\n",
    "    tau_up = min(t + Tup, T)  \n",
    "    for tau_u in range(t+1, tau_up):\n",
    "        cons.append(x[t,:] - x[t-1,:] <= x[tau_u,:])\n",
    "        \n",
    "    tau_down = min(t + Tup, T)  \n",
    "    for tau_d in range(t+1, tau_down):\n",
    "        cons.append(x[t-1,:] - x[t,:] <= 1 - x[tau_d,:])\n",
    "    \n",
    "# For all the generators    \n",
    "for n in range(N):\n",
    "    cons.append(g[:, n] <= x[:, n]*capacity[n]) # Capacity cons"
   ]
  },
  {
   "cell_type": "code",
   "execution_count": null,
   "id": "233e8219",
   "metadata": {},
   "outputs": [],
   "source": [
    "# Solve\n",
    "problem = cp.Problem(obj, cons)\n",
    "problem.solve()"
   ]
  },
  {
   "cell_type": "code",
   "execution_count": null,
   "id": "79c7bccb",
   "metadata": {},
   "outputs": [],
   "source": [
    "# Plot results\n",
    "\n",
    "# Define figure\n",
    "fig = plt.subplots(figsize = (10, 6), constrained_layout=True)\n",
    "\n",
    "# Create subplot grid\n",
    "ax1 = plt.subplot2grid((3, 3), (0, 0), colspan = 3, rowspan = 2)\n",
    "ax2 = plt.subplot2grid((3, 3), (2, 0))\n",
    "ax3 = plt.subplot2grid((3, 3), (2, 1))\n",
    "ax4 = plt.subplot2grid((3, 3), (2, 2))\n",
    "\n",
    "# Dispatch plot\n",
    "ax1.stackplot(np.arange(T), df.T, labels= df.columns, colors = colors)\n",
    "ax1.plot(dt, linewidth=2, c = 'k', label = 'Total demand')\n",
    "ax1.set_ylabel('MW')\n",
    "ax1.set_xlabel('Time (h)')\n",
    "ax1.legend()\n",
    "\n",
    "# X plot\n",
    "ax2.imshow(x.value.T, interpolation='nearest', aspect='auto')\n",
    "ax2.set_xlabel('Time (h)')\n",
    "ax2.set_ylabel('Generator')\n",
    "ax2.set_title('$x_i^t$')\n",
    "ax2.set_yticklabels(['1', '1', '3', '5'])\n",
    "\n",
    "# U plot\n",
    "ax3.imshow(u.value.T, interpolation='nearest', aspect='auto')\n",
    "ax3.set_xlabel('Time (h)')\n",
    "ax3.set_title('$u_i^t$')\n",
    "ax3.set_yticklabels(['1', '1', '3', '5'])\n",
    "\n",
    "# V plot\n",
    "ax4.imshow(v.value.T, interpolation='nearest', aspect='auto')\n",
    "ax4.set_xlabel('Time (h)')\n",
    "ax4.set_title('$v_i^t$')\n",
    "ax4.set_yticklabels(['1', '1', '3', '5'])\n",
    "\n",
    "# Binary relaxation colorbar\n",
    "plt.colorbar(ax2.imshow(x.value.T, interpolation='nearest', aspect='auto'), ticks=[0, 1], label='Relaxation')\n",
    "\n",
    "plt.savefig('.\\\\plots\\\\part2_relax.pdf')"
   ]
  },
  {
   "cell_type": "code",
   "execution_count": null,
   "id": "f0395e04",
   "metadata": {},
   "outputs": [],
   "source": []
  },
  {
   "cell_type": "code",
   "execution_count": null,
   "id": "19effdf3",
   "metadata": {},
   "outputs": [],
   "source": [
    "\n"
   ]
  },
  {
   "cell_type": "code",
   "execution_count": null,
   "id": "ec1f290c",
   "metadata": {},
   "outputs": [],
   "source": []
  },
  {
   "cell_type": "code",
   "execution_count": null,
   "id": "7cf5c525",
   "metadata": {},
   "outputs": [],
   "source": []
  }
 ],
 "metadata": {
  "kernelspec": {
   "display_name": "Python 3 (ipykernel)",
   "language": "python",
   "name": "python3"
  },
  "language_info": {
   "codemirror_mode": {
    "name": "ipython",
    "version": 3
   },
   "file_extension": ".py",
   "mimetype": "text/x-python",
   "name": "python",
   "nbconvert_exporter": "python",
   "pygments_lexer": "ipython3",
   "version": "3.9.7"
  }
 },
 "nbformat": 4,
 "nbformat_minor": 5
}
