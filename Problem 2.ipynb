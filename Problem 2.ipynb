{
 "cells": [
  {
   "cell_type": "code",
   "execution_count": null,
   "id": "207d3bc5-6802-4c9a-a259-7afde0566e36",
   "metadata": {},
   "outputs": [],
   "source": [
    "import numpy as np\n",
    "import cvxpy as cp\n",
    "\n",
    "import matplotlib.pyplot as plt"
   ]
  },
  {
   "cell_type": "markdown",
   "id": "933e55bf-ae45-4167-a841-d9f0e56dc097",
   "metadata": {},
   "source": [
    "# Definition of data"
   ]
  },
  {
   "cell_type": "code",
   "execution_count": null,
   "id": "f998c42f-eed2-45f7-b50d-94dc309e35dc",
   "metadata": {},
   "outputs": [],
   "source": [
    "generation_costs = np.array([15, 20, 15, 20, 30, 25.])\n",
    "startup_costs = np.array([75, 100, 75, 100, 100, 125.])\n",
    "shutdown_costs = np.array([7.5, 10.0, 7.5, 10.0, 10.0, 12.5])\n",
    "running_costs = np.array([10, 5, 10, 10, 10, 10.])\n",
    "\n",
    "capacity = np.array([10, 5, 10, 10, 20, 30.])\n",
    "ramp_up_rate = np.array([2, 5, 2, 5, 10, 5.])\n",
    "ramp_down_rate = np.array([2, 5, 2, 5, 10, 5.])\n",
    "\n",
    "initial_state = np.array([1, 0,0, 0, 0, 0])"
   ]
  },
  {
   "cell_type": "code",
   "execution_count": null,
   "id": "1651b04e-0fc1-4ab9-b350-201f570a5d47",
   "metadata": {},
   "outputs": [],
   "source": [
    "rt = np.array([15.2, 16.4, 16.1, 10.9, 14.8, 7.6, 15.6, 5.5, 9.2, 5.7, 1.5, 12.4, 10.4, 4.8, 14.3, 0.5, 6.6, 5.7, 11.5, 11.9, 2.8, 7.3, 6.7, 9.7])\n",
    "dt = np.array([21.3, 21.4, 17.8, 20.9, 15.5, 17.6, 20.2, 23.8, 27.7, 30.1, 35.4, 39.4, 43.2, 47.0, 49.3, 51.5, 52.6, 50.3, 47.0, 43.1, 38.8, 33.2, 28.6, 24.3])"
   ]
  },
  {
   "cell_type": "markdown",
   "id": "d64598a4-55cb-46b0-aa3e-5788de15ebbb",
   "metadata": {},
   "source": [
    "# Question 2.2"
   ]
  },
  {
   "cell_type": "code",
   "execution_count": null,
   "id": "573c87bb-f7ae-4294-8e2b-4f0415553a18",
   "metadata": {},
   "outputs": [],
   "source": [
    "Tup = 3\n",
    "Tdown = 2"
   ]
  },
  {
   "cell_type": "code",
   "execution_count": null,
   "id": "c067c5ad-e162-41c0-9f1d-32b9a90d100b",
   "metadata": {},
   "outputs": [],
   "source": [
    "...\n",
    "# YOUR CODE HERE\n",
    "# Hint: Define decision variables in CVXPY using\n",
    "# shape = (2,2) # example: 2x2 binary matrix\n",
    "# binary_example_variable = cp.Variable(shape, boolean=True)\n",
    "# We recommend GLPK_MI solver"
   ]
  },
  {
   "cell_type": "markdown",
   "id": "d0d63e22-1f0a-4e51-ae92-a7006f31fb04",
   "metadata": {
    "tags": []
   },
   "source": [
    "# Question 2.3 Relaxed"
   ]
  },
  {
   "cell_type": "code",
   "execution_count": null,
   "id": "18f1ff2c-9053-479d-af61-ddb6fc88f286",
   "metadata": {},
   "outputs": [],
   "source": [
    "Tup = 3\n",
    "Tdown = 2"
   ]
  },
  {
   "cell_type": "code",
   "execution_count": null,
   "id": "7bfa7f8c-4877-40fe-8cb4-82b6c4df1f6f",
   "metadata": {},
   "outputs": [],
   "source": [
    "...\n",
    "# YOUR CODE HERE\n",
    "# We recommend GLPK_MI solver"
   ]
  }
 ],
 "metadata": {
  "kernelspec": {
   "display_name": "Optimal Decision Making 2022",
   "language": "python",
   "name": "odm"
  },
  "language_info": {
   "codemirror_mode": {
    "name": "ipython",
    "version": 3
   },
   "file_extension": ".py",
   "mimetype": "text/x-python",
   "name": "python",
   "nbconvert_exporter": "python",
   "pygments_lexer": "ipython3",
   "version": "3.8.10"
  }
 },
 "nbformat": 4,
 "nbformat_minor": 5
}
